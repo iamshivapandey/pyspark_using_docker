{
 "cells": [
  {
   "cell_type": "code",
   "execution_count": 2,
   "id": "7ddf55d7-c6a3-4ed2-be5a-6f84056a1c90",
   "metadata": {},
   "outputs": [],
   "source": [
    "from pyspark.sql import SparkSession\n",
    "from pyspark.sql import Row"
   ]
  },
  {
   "cell_type": "code",
   "execution_count": 3,
   "id": "ae7528d0-fc45-401a-ad02-22a386649f8f",
   "metadata": {},
   "outputs": [
    {
     "name": "stdout",
     "output_type": "stream",
     "text": [
      "24/03/02 14:27:18 WARN Utils: Your hostname, kratos resolves to a loopback address: 127.0.1.1; using 172.20.10.9 instead (on interface wlp5s0)\n",
      "24/03/02 14:27:18 WARN Utils: Set SPARK_LOCAL_IP if you need to bind to another address\n"
     ]
    },
    {
     "name": "stderr",
     "output_type": "stream",
     "text": [
      "Setting default log level to \"WARN\".\n",
      "To adjust logging level use sc.setLogLevel(newLevel). For SparkR, use setLogLevel(newLevel).\n"
     ]
    },
    {
     "name": "stdout",
     "output_type": "stream",
     "text": [
      "24/03/02 14:27:18 WARN NativeCodeLoader: Unable to load native-hadoop library for your platform... using builtin-java classes where applicable\n"
     ]
    }
   ],
   "source": [
    "# Initialize Spark session\n",
    "spark = SparkSession.builder \\\n",
    "    .appName(\"Dummy CSV Generation\") \\\n",
    "    .getOrCreate()"
   ]
  },
  {
   "cell_type": "code",
   "execution_count": 4,
   "id": "e6ecd38d-91b1-485f-85bb-4ed7ece90f17",
   "metadata": {},
   "outputs": [],
   "source": [
    "# Create dummy data\n",
    "data = [\n",
    "    Row(id=1, name=\"Alice\", age=30),\n",
    "    Row(id=2, name=\"Bob\", age=35),\n",
    "    Row(id=3, name=\"Charlie\", age=40)\n",
    "]\n",
    "\n",
    "# Create DataFrame from dummy data\n",
    "df = spark.createDataFrame(data)"
   ]
  },
  {
   "cell_type": "code",
   "execution_count": 5,
   "id": "bbb7072d-fb2c-4214-bfc0-4201aed488c9",
   "metadata": {},
   "outputs": [
    {
     "name": "stdout",
     "output_type": "stream",
     "text": [
      "Dummy DataFrame:\n"
     ]
    },
    {
     "name": "stderr",
     "output_type": "stream",
     "text": [
      "                                                                                \r"
     ]
    },
    {
     "name": "stdout",
     "output_type": "stream",
     "text": [
      "+---+-------+---+\n",
      "| id|   name|age|\n",
      "+---+-------+---+\n",
      "|  1|  Alice| 30|\n",
      "|  2|    Bob| 35|\n",
      "|  3|Charlie| 40|\n",
      "+---+-------+---+\n",
      "\n"
     ]
    },
    {
     "name": "stderr",
     "output_type": "stream",
     "text": [
      "                                                                                \r"
     ]
    }
   ],
   "source": [
    "# Show the contents of the DataFrame\n",
    "print(\"Dummy DataFrame:\")\n",
    "df.show()\n",
    "\n",
    "# Write the DataFrame to a CSV file\n",
    "df.coalesce(1).write.csv(\"dummy_data.csv\", header=True, mode=\"overwrite\")"
   ]
  },
  {
   "cell_type": "code",
   "execution_count": 6,
   "id": "67f7d8c3-d5d1-4658-a456-379481916b20",
   "metadata": {},
   "outputs": [],
   "source": [
    "# Stop Spark session\n",
    "spark.stop()"
   ]
  },
  {
   "cell_type": "code",
   "execution_count": null,
   "id": "14a39899-75be-402d-aa43-59f7dbb17a67",
   "metadata": {},
   "outputs": [],
   "source": []
  }
 ],
 "metadata": {
  "kernelspec": {
   "display_name": "Python 3 (ipykernel)",
   "language": "python",
   "name": "python3"
  },
  "language_info": {
   "codemirror_mode": {
    "name": "ipython",
    "version": 3
   },
   "file_extension": ".py",
   "mimetype": "text/x-python",
   "name": "python",
   "nbconvert_exporter": "python",
   "pygments_lexer": "ipython3",
   "version": "3.10.12"
  }
 },
 "nbformat": 4,
 "nbformat_minor": 5
}
